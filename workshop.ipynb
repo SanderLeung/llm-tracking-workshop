{
 "cells": [
  {
   "cell_type": "markdown",
   "metadata": {},
   "source": [
    "# Union.ai Serverless Workshop\n",
    "\n",
    "Welcome to the Union.ai Serverless Workshop! In this workshop, we will cover:\n",
    "\n",
    "1. Setup workspace and connect to Union.ai Serverless\n",
    "2. Launch a simple ML workflow & get familiar with the Python SDK\n",
    "3. LLM tracking workflow using HuggingFace and Weights & Bias.\n",
    "4. Explore models using Union hosted VSCode\n",
    "\n",
    "## Setup Workspace\n",
    "\n",
    "There are two options for configuring your workspace: GitHub Codespaces and Google Colab. Please see [the README.md](https://github.com/thomasjpfan/unionai-llm-tracking-workshop?tab=readme-ov-file#unionai-serverless-workshop) for details."
   ]
  },
  {
   "cell_type": "code",
   "execution_count": null,
   "metadata": {},
   "outputs": [],
   "source": [
    "try:\n",
    "    import google.colab\n",
    "    IN_COLAB = True\n",
    "except ImportError:\n",
    "    IN_COLAB = False\n",
    "\n",
    "if IN_COLAB:\n",
    "    !git clone --depth 1 https://github.com/thomasjpfan/unionai-llm-tracking-workshop.git\n",
    "    %cd unionai-llm-tracking-workshop\n",
    "    %pip install -r dev/requirements.txt"
   ]
  },
  {
   "cell_type": "markdown",
   "metadata": {},
   "source": [
    "## Authenticate on Codespaces or Colab\n",
    "\n",
    "To authenticate with Severless run, and go to the link provided to authenticate your CLI."
   ]
  },
  {
   "cell_type": "code",
   "execution_count": null,
   "metadata": {},
   "outputs": [],
   "source": [
    "!unionai create login device-flow"
   ]
  },
  {
   "cell_type": "markdown",
   "metadata": {},
   "source": [
    "To make sure everything is working, run this sample workflow:"
   ]
  },
  {
   "cell_type": "code",
   "execution_count": null,
   "metadata": {},
   "outputs": [],
   "source": [
    "!unionai run --remote starter.py main"
   ]
  },
  {
   "cell_type": "markdown",
   "metadata": {},
   "source": [
    "Go to the link provided to see your execution on Union!\n",
    "\n",
    "## ML Workflow\n",
    "\n",
    "In this section, we will launch a simple ML workflow and get familiar with the Python SDK, `flytekit`. To run the\n",
    "workflow on Union:"
   ]
  },
  {
   "cell_type": "code",
   "execution_count": null,
   "metadata": {},
   "outputs": [],
   "source": [
    "!unionai run --remote ml_workflow.py main"
   ]
  },
  {
   "cell_type": "markdown",
   "metadata": {},
   "source": [
    "One benefit of `flytekit` is that you can run the workflow locally as well:"
   ]
  },
  {
   "cell_type": "code",
   "execution_count": null,
   "metadata": {},
   "outputs": [],
   "source": [
    "!unionai run ml_workflow.py main"
   ]
  },
  {
   "cell_type": "markdown",
   "metadata": {},
   "source": [
    "If you are on Codespaces, you can see the `ml_workflow.py` in the IDE. On Colab, please go to [this link](https://github.com/thomasjpfan/unionai-llm-tracking-workshop/blob/main/ml_workflow.py) to see the code. We will highlight the following features in the SDK and UI:\n",
    "\n",
    "- `@task`, `@workflow` in SDK\n",
    "- `ImageSpec`\n",
    "- Caching\n",
    "- `FlyteDeck`\n",
    "- Task level metrics\n",
    "\n",
    "## LLM Workflow\n",
    "\n",
    "In this section, we run a LLM workflow using Hugging Face and Weights and Biases. First, please go to [https://wandb.ai/authorize](https://wandb.ai/authorize) to log into your Weights and Biases account and get an API key.\n",
    "\n",
    "Run the following command to create a secret on Union and paste n your wandb API key:"
   ]
  },
  {
   "cell_type": "code",
   "execution_count": null,
   "metadata": {},
   "outputs": [],
   "source": [
    "!unionai create secret wandb_api_key"
   ]
  },
  {
   "cell_type": "markdown",
   "metadata": {},
   "source": [
    "To see all your secrets run:"
   ]
  },
  {
   "cell_type": "code",
   "execution_count": null,
   "metadata": {},
   "outputs": [],
   "source": [
    "!unionai get secret"
   ]
  },
  {
   "cell_type": "markdown",
   "metadata": {},
   "source": [
    "With the secret define, you can now run:"
   ]
  },
  {
   "cell_type": "code",
   "execution_count": null,
   "metadata": {},
   "outputs": [],
   "source": [
    "!unionai run --remote llm_tracking.py main \\\n",
    "    --wandb_project unionai-serverless-demo \\\n",
    "    --model distilbert-base-uncased"
   ]
  },
  {
   "cell_type": "markdown",
   "metadata": {},
   "source": [
    "If you are on Codespaces, you can see the `llm_tracking.py` in the IDE. On Colab, please go to [this link](https://github.com/thomasjpfan/unionai-llm-tracking-workshop/blob/main/llm_tracking.py) to see the code. We will highlight the following code and UI features:\n",
    "\n",
    "- Secrets API\n",
    "- Declarative infrastructure\n",
    "- UI to trigger workflow\n",
    "- TLM for GPUs\n",
    "- Error handling\n",
    "\n",
    "## VSCode Integration\n",
    "\n",
    "In this section, we will launch a VSCode instance hosted by Union to interact with the LLM trained by the previous workflow. First, we get the object uri link from the UI of an LLM task, then assign it to the following variable"
   ]
  },
  {
   "cell_type": "code",
   "execution_count": null,
   "metadata": {},
   "outputs": [],
   "source": [
    "LLM_URI = \"union://...\""
   ]
  },
  {
   "cell_type": "markdown",
   "metadata": {},
   "source": [
    "Lastly, we launch the vscode environment by running:"
   ]
  },
  {
   "cell_type": "code",
   "execution_count": null,
   "metadata": {},
   "outputs": [],
   "source": [
    "!unionai run --remote launch_vscode.py main --model $LLM_URI"
   ]
  },
  {
   "cell_type": "markdown",
   "metadata": {},
   "source": [
    "We will highlight how to get the model in Union's VSCode enviornment and how to use Jupyter to interact query the model."
   ]
  }
 ],
 "metadata": {
  "kernelspec": {
   "display_name": "unionai-dev (python3)",
   "language": "python",
   "name": "conda-env-unionai-dev-py"
  }
 },
 "nbformat": 4,
 "nbformat_minor": 4
}
